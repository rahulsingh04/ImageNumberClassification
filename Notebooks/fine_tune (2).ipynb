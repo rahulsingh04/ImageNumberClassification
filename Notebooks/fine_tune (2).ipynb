{
  "cells": [
    {
      "cell_type": "code",
      "execution_count": 1,
      "metadata": {
        "id": "xvUauvFh28Xt"
      },
      "outputs": [],
      "source": [
        "from tensorflow.compat.v1 import ConfigProto\n",
        "from tensorflow.compat.v1 import InteractiveSession\n",
        "\n",
        "config = ConfigProto()\n",
        "config.gpu_options.per_process_gpu_memory_fraction = 0.5 ## only use 50 % of the gpu\n",
        "config.gpu_options.allow_growth = True\n",
        "session = InteractiveSession(config=config)"
      ]
    },
    {
      "cell_type": "code",
      "source": [
        "from google.colab import drive\n",
        "drive.mount('/content/drive')"
      ],
      "metadata": {
        "colab": {
          "base_uri": "https://localhost:8080/"
        },
        "id": "IzVrH6LT3S-s",
        "outputId": "777b0a82-3d12-48d7-fb26-3ee3850b4733"
      },
      "execution_count": 3,
      "outputs": [
        {
          "output_type": "stream",
          "name": "stdout",
          "text": [
            "Drive already mounted at /content/drive; to attempt to forcibly remount, call drive.mount(\"/content/drive\", force_remount=True).\n"
          ]
        }
      ]
    },
    {
      "cell_type": "markdown",
      "metadata": {
        "id": "nQYtRzif28Xz"
      },
      "source": [
        "###  Importing  Necessary Library"
      ]
    },
    {
      "cell_type": "code",
      "execution_count": 8,
      "metadata": {
        "id": "8dkIO-9O28Ya"
      },
      "outputs": [],
      "source": [
        "import numpy as np\n",
        "from glob import glob\n",
        "from tensorflow.keras.layers import (Input, Lambda, Dense, Flatten)\n",
        "from tensorflow.keras.models import (Model, Sequential)\n",
        "from tensorflow.keras.applications.mobilenet_v2 import (MobileNetV2, preprocess_input)\n",
        "from tensorflow.keras.preprocessing.image import (ImageDataGenerator, load_img, array_to_img, img_to_array)\n",
        "from tensorflow.keras.optimizers import Adam\n",
        "import matplotlib.pyplot as plt\n"
      ]
    },
    {
      "cell_type": "code",
      "execution_count": 9,
      "metadata": {
        "id": "8a4qt5MX28Yb"
      },
      "outputs": [],
      "source": [
        "# re-size all the images to this\n",
        "IMAGE_SIZE = [224, 224]\n",
        "\n",
        "train_path = '/content/drive/MyDrive/dataset/train'\n",
        "valid_path = '/content/drive/MyDrive/dataset/val'\n",
        "test_path =  '/content/drive/MyDrive/dataset/test'"
      ]
    },
    {
      "cell_type": "code",
      "execution_count": 10,
      "metadata": {
        "colab": {
          "base_uri": "https://localhost:8080/"
        },
        "id": "Z6Ba2H_P28Yc",
        "outputId": "058690ce-7262-413b-c0ec-1aa14b8382f2"
      },
      "outputs": [
        {
          "output_type": "stream",
          "name": "stdout",
          "text": [
            "Downloading data from https://storage.googleapis.com/tensorflow/keras-applications/mobilenet_v2/mobilenet_v2_weights_tf_dim_ordering_tf_kernels_1.0_224_no_top.h5\n",
            "9406464/9406464 [==============================] - 0s 0us/step\n"
          ]
        }
      ],
      "source": [
        "# Import the MobileNet library as shown below and add preprocessing layer to the front of VGG\n",
        "# Here we will be using imagenet weights\n",
        "\n",
        "mobile_net  = MobileNetV2(input_shape=IMAGE_SIZE + [3], weights='imagenet', include_top=False)"
      ]
    },
    {
      "cell_type": "code",
      "execution_count": 73,
      "metadata": {
        "colab": {
          "base_uri": "https://localhost:8080/"
        },
        "id": "m4_Xwxd728Yd",
        "outputId": "b4706139-b7ce-49a9-f891-7e38be8e111a"
      },
      "outputs": [
        {
          "output_type": "stream",
          "name": "stdout",
          "text": [
            "No Of The Layer In MObileNet :-->  154\n"
          ]
        }
      ],
      "source": [
        "print(\"No Of The Layer In MObileNet :--> \", len(mobile_net.layers))"
      ]
    },
    {
      "cell_type": "code",
      "execution_count": 74,
      "metadata": {
        "colab": {
          "base_uri": "https://localhost:8080/"
        },
        "id": "BP6odI7128Yd",
        "outputId": "242647f7-fdab-4bd1-a632-69b2e472b997"
      },
      "outputs": [
        {
          "output_type": "stream",
          "name": "stdout",
          "text": [
            "total no of the folder in the train dataset :--> 100\n"
          ]
        }
      ],
      "source": [
        "  # useful for getting number of output classes\n",
        "folders = glob('/content/drive/MyDrive/dataset/train/*')\n",
        "print(\"total no of the folder in the train dataset :-->\", len(folders))\n"
      ]
    },
    {
      "cell_type": "code",
      "execution_count": 75,
      "metadata": {
        "id": "DEurfpND28Ye"
      },
      "outputs": [],
      "source": [
        "###  Data Preprocessing"
      ]
    },
    {
      "cell_type": "code",
      "execution_count": 131,
      "metadata": {
        "id": "l5p60-Xf28Yf"
      },
      "outputs": [],
      "source": [
        "# Use the Image Data Generator to import the images from the dataset\n",
        "\n",
        "from tensorflow.keras.preprocessing.image import ImageDataGenerator\n",
        "from tensorflow.keras.applications.mobilenet_v2 import preprocess_input\n",
        "\n",
        "# Define data generators for training and validation data\n",
        "train_datagen = ImageDataGenerator(\n",
        "    rescale=1./255,            # Rescale pixel values to the range [0, 1]\n",
        "    preprocessing_function=preprocess_input,\n",
        "    rotation_range=40,         # Randomly rotate images by up to 40 degrees\n",
        "    width_shift_range=0.3,     # Randomly shift images horizontally by up to 30% of the width\n",
        "    height_shift_range=0.3,    # Randomly shift images vertically by up to 30% of the height\n",
        "    shear_range=0.3,           # Shear intensity\n",
        "    zoom_range=0.3,            # Randomly zoom images by up to 30%\n",
        "    horizontal_flip=True,      # Randomly flip images horizontally\n",
        "    vertical_flip=True,        # Randomly flip images vertically\n",
        "    brightness_range=[0.6, 1.4],  # Randomly adjust brightness\n",
        "    channel_shift_range=100.0,  # Randomly shift channels\n",
        "    fill_mode='nearest',       # Strategy for filling in newly created pixels\n",
        "    validation_split=0.2       # Fraction of training data to use for validation\n",
        ")\n",
        "\n",
        "test_datagen = ImageDataGenerator(rescale=1./255,   # Rescale pixel values for the test set\n",
        "                                  preprocessing_function=preprocess_input)\n",
        "\n"
      ]
    },
    {
      "cell_type": "code",
      "execution_count": 132,
      "metadata": {
        "colab": {
          "base_uri": "https://localhost:8080/"
        },
        "id": "tV11Y7wI28Yg",
        "outputId": "1aed4750-7fa4-49ab-ba19-dfd3d39938d7"
      },
      "outputs": [
        {
          "output_type": "stream",
          "name": "stdout",
          "text": [
            "Found 1200 images belonging to 100 classes.\n",
            "Found 400 images belonging to 100 classes.\n"
          ]
        }
      ],
      "source": [
        "# Make sure to provide the same target size as initialied for the image size\n",
        "\n",
        "training_set = train_datagen.flow_from_directory(train_path,\n",
        "                                                 target_size = (224, 224),\n",
        "                                                 batch_size = 32,\n",
        "                                                 class_mode = 'categorical')\n",
        "\n",
        "validation_set = test_datagen.flow_from_directory(valid_path,\n",
        "                                            target_size = (224, 224),\n",
        "                                            batch_size = 32,\n",
        "                                            class_mode = 'categorical')"
      ]
    },
    {
      "cell_type": "code",
      "execution_count": 133,
      "metadata": {
        "colab": {
          "base_uri": "https://localhost:8080/"
        },
        "id": "fnfGAZ-y28Yh",
        "outputId": "570c40af-ad8d-418f-c76b-9f00a5aaba68"
      },
      "outputs": [
        {
          "output_type": "stream",
          "name": "stdout",
          "text": [
            "LIST OF THE CLASS NAME  ARE :- ['1', '10', '100', '11', '12', '13', '14', '15', '16', '17', '18', '19', '2', '20', '21', '22', '23', '24', '25', '26', '27', '28', '29', '3', '30', '31', '32', '33', '34', '35', '36', '37', '38', '39', '4', '40', '41', '42', '43', '44', '45', '46', '47', '48', '49', '5', '50', '51', '52', '53', '54', '55', '56', '57', '58', '59', '6', '60', '61', '62', '63', '64', '65', '66', '67', '68', '69', '7', '70', '71', '72', '73', '74', '75', '76', '77', '78', '79', '8', '80', '81', '82', '83', '84', '85', '86', '87', '88', '89', '9', '90', '91', '92', '93', '94', '95', '96', '97', '98', '99']\n"
          ]
        }
      ],
      "source": [
        "print(\"LIST OF THE CLASS NAME  ARE :-\", list(training_set.class_indices.keys()))"
      ]
    },
    {
      "cell_type": "code",
      "execution_count": 134,
      "metadata": {
        "colab": {
          "base_uri": "https://localhost:8080/"
        },
        "id": "aG7x7Hrq28Yi",
        "outputId": "69fda251-3211-4dfe-ffd5-c944daafd231"
      },
      "outputs": [
        {
          "output_type": "stream",
          "name": "stdout",
          "text": [
            "Number of layers in the base model:  154\n"
          ]
        }
      ],
      "source": [
        "# Let's take a look to see how many layers are in the base model\n",
        "print(\"Number of layers in the base model: \", len(mobile_net.layers))\n",
        "\n",
        "# Fine-tune from this layer onwards\n",
        "fine_tune_at = 110\n",
        "\n",
        "# Freeze all the layers before the `fine_tune_at` layer\n",
        "for layer in mobile_net.layers[:fine_tune_at]:\n",
        "    layer.trainable =  False"
      ]
    },
    {
      "cell_type": "code",
      "execution_count": 135,
      "metadata": {
        "id": "9t6fzdOO28Yj"
      },
      "outputs": [],
      "source": [
        "from tensorflow.keras.callbacks import ReduceLROnPlateau, EarlyStopping\n",
        "\n",
        "#learning_rate reduce module\n",
        "lr_reduce = ReduceLROnPlateau('val_loss', patience=4,\n",
        "                                              factor=0.5, min_lr=1e-6)\n",
        "\n",
        "# Stop early if model doesn't improve after n epochs\n",
        "early_stopper = EarlyStopping(monitor='val_loss', patience=4,\n",
        "                              verbose=0, restore_best_weights=True)"
      ]
    },
    {
      "cell_type": "code",
      "execution_count": 136,
      "metadata": {
        "id": "04opSHo428Yk"
      },
      "outputs": [],
      "source": [
        "from tensorflow.keras.layers import LeakyReLU\n",
        "\n",
        "from tensorflow.keras.layers import BatchNormalization\n",
        "\n",
        "# Define a more complex Sequential model\n",
        "model = Sequential()\n",
        "\n",
        "# Add MobileNetV2 base model\n",
        "model.add(mobile_net)\n",
        "\n",
        "# Add additional convolutional block with leaky ReLU activation and batch normalization\n",
        "model.add(Conv2D(64, (3, 3)))\n",
        "model.add(LeakyReLU(alpha=0.1))  # Leaky ReLU with alpha=0.1\n",
        "model.add(BatchNormalization())  # Batch normalization\n",
        "model.add(MaxPooling2D((2, 2)))\n",
        "\n",
        "# Flatten the output\n",
        "model.add(Flatten())\n",
        "\n",
        "# Add Dropout layer\n",
        "model.add(Dropout(0.5))  # Example: dropout rate of 0.5\n",
        "\n",
        "# Add fully connected layers with leaky ReLU activation and batch normalization\n",
        "model.add(Dense(512))\n",
        "model.add(LeakyReLU(alpha=0.1))  # Leaky ReLU with alpha=0.1\n",
        "model.add(BatchNormalization())  # Batch normalization\n",
        "model.add(Dropout(0.5))  # Example: dropout rate of 0.5\n",
        "model.add(Dense(256))\n",
        "model.add(LeakyReLU(alpha=0.1))  # Leaky ReLU with alpha=0.1\n",
        "model.add(BatchNormalization())  # Batch normalization\n",
        "\n",
        "# Output layer\n",
        "model.add(Dense(len(folders), activation='softmax'))\n",
        "\n"
      ]
    },
    {
      "cell_type": "code",
      "execution_count": 137,
      "metadata": {
        "id": "pB_zT4RR28Ym"
      },
      "outputs": [],
      "source": [
        "import tensorflow as tensorflow\n",
        "\n",
        "# Define hyperparameters\n",
        "learning_rate = 0.001\n",
        "dropout_rate = 0.5\n",
        "batch_size = 32\n",
        "\n",
        "# Choose optimizer\n",
        "optimizer = Adam(learning_rate=learning_rate)\n",
        "\n",
        "model.compile(optimizer=optimizer, loss='categorical_crossentropy', metrics=[\"accuracy\"])"
      ]
    },
    {
      "cell_type": "code",
      "execution_count": 137,
      "metadata": {
        "id": "lK-Mi5RR28Yn"
      },
      "outputs": [],
      "source": []
    },
    {
      "cell_type": "code",
      "execution_count": 138,
      "metadata": {
        "colab": {
          "base_uri": "https://localhost:8080/"
        },
        "id": "jNTvS1Lt28Yo",
        "outputId": "80809858-672f-4915-ec7b-7ba8a3baf153"
      },
      "outputs": [
        {
          "output_type": "stream",
          "name": "stdout",
          "text": [
            "Model: \"sequential_12\"\n",
            "_________________________________________________________________\n",
            " Layer (type)                Output Shape              Param #   \n",
            "=================================================================\n",
            " mobilenetv2_1.00_224 (Func  (None, 7, 7, 1280)        2257984   \n",
            " tional)                                                         \n",
            "                                                                 \n",
            " conv2d_10 (Conv2D)          (None, 5, 5, 64)          737344    \n",
            "                                                                 \n",
            " leaky_re_lu_22 (LeakyReLU)  (None, 5, 5, 64)          0         \n",
            "                                                                 \n",
            " batch_normalization_9 (Bat  (None, 5, 5, 64)          256       \n",
            " chNormalization)                                                \n",
            "                                                                 \n",
            " max_pooling2d_9 (MaxPoolin  (None, 2, 2, 64)          0         \n",
            " g2D)                                                            \n",
            "                                                                 \n",
            " flatten_11 (Flatten)        (None, 256)               0         \n",
            "                                                                 \n",
            " dropout_18 (Dropout)        (None, 256)               0         \n",
            "                                                                 \n",
            " dense_30 (Dense)            (None, 512)               131584    \n",
            "                                                                 \n",
            " leaky_re_lu_23 (LeakyReLU)  (None, 512)               0         \n",
            "                                                                 \n",
            " batch_normalization_10 (Ba  (None, 512)               2048      \n",
            " tchNormalization)                                               \n",
            "                                                                 \n",
            " dropout_19 (Dropout)        (None, 512)               0         \n",
            "                                                                 \n",
            " dense_31 (Dense)            (None, 256)               131328    \n",
            "                                                                 \n",
            " leaky_re_lu_24 (LeakyReLU)  (None, 256)               0         \n",
            "                                                                 \n",
            " batch_normalization_11 (Ba  (None, 256)               1024      \n",
            " tchNormalization)                                               \n",
            "                                                                 \n",
            " dense_32 (Dense)            (None, 100)               25700     \n",
            "                                                                 \n",
            "=================================================================\n",
            "Total params: 3287268 (12.54 MB)\n",
            "Trainable params: 2770788 (10.57 MB)\n",
            "Non-trainable params: 516480 (1.97 MB)\n",
            "_________________________________________________________________\n"
          ]
        }
      ],
      "source": [
        "model.summary()"
      ]
    },
    {
      "cell_type": "code",
      "execution_count": 139,
      "metadata": {
        "colab": {
          "base_uri": "https://localhost:8080/"
        },
        "id": "LSd8lj-I28Yp",
        "outputId": "84762c36-c28a-4884-b2fb-213343d1eb88"
      },
      "outputs": [
        {
          "output_type": "stream",
          "name": "stdout",
          "text": [
            "Epoch 1/500\n",
            "38/38 [==============================] - 34s 653ms/step - loss: 5.2236 - accuracy: 0.0117 - val_loss: 9.7434 - val_accuracy: 0.0100 - lr: 0.0010\n",
            "Epoch 2/500\n",
            "38/38 [==============================] - 24s 638ms/step - loss: 5.1483 - accuracy: 0.0108 - val_loss: 9.3266 - val_accuracy: 0.0100 - lr: 0.0010\n",
            "Epoch 3/500\n",
            "38/38 [==============================] - 23s 591ms/step - loss: 5.0928 - accuracy: 0.0075 - val_loss: 6.1608 - val_accuracy: 0.0125 - lr: 0.0010\n",
            "Epoch 4/500\n",
            "38/38 [==============================] - 23s 611ms/step - loss: 5.0042 - accuracy: 0.0083 - val_loss: 7.0427 - val_accuracy: 0.0100 - lr: 0.0010\n",
            "Epoch 5/500\n",
            "38/38 [==============================] - 23s 618ms/step - loss: 4.9229 - accuracy: 0.0117 - val_loss: 6.7668 - val_accuracy: 0.0100 - lr: 0.0010\n",
            "Epoch 6/500\n",
            "38/38 [==============================] - 23s 614ms/step - loss: 4.8811 - accuracy: 0.0092 - val_loss: 6.5909 - val_accuracy: 0.0100 - lr: 0.0010\n",
            "Epoch 7/500\n",
            "38/38 [==============================] - 24s 621ms/step - loss: 4.8736 - accuracy: 0.0117 - val_loss: 5.8008 - val_accuracy: 0.0125 - lr: 0.0010\n",
            "Epoch 8/500\n",
            "38/38 [==============================] - 23s 589ms/step - loss: 4.8252 - accuracy: 0.0083 - val_loss: 4.8015 - val_accuracy: 0.0100 - lr: 0.0010\n",
            "Epoch 9/500\n",
            "38/38 [==============================] - 23s 618ms/step - loss: 5.0456 - accuracy: 0.0108 - val_loss: 5.4259 - val_accuracy: 0.0100 - lr: 0.0010\n",
            "Epoch 10/500\n",
            "38/38 [==============================] - 23s 609ms/step - loss: 5.0413 - accuracy: 0.0117 - val_loss: 5.7983 - val_accuracy: 0.0100 - lr: 0.0010\n",
            "Epoch 11/500\n",
            "38/38 [==============================] - 23s 605ms/step - loss: 4.9829 - accuracy: 0.0058 - val_loss: 5.9902 - val_accuracy: 0.0100 - lr: 0.0010\n",
            "Epoch 12/500\n",
            "38/38 [==============================] - 23s 610ms/step - loss: 4.9832 - accuracy: 0.0050 - val_loss: 5.6575 - val_accuracy: 0.0100 - lr: 0.0010\n"
          ]
        }
      ],
      "source": [
        "history_fine = model.fit(training_set,\n",
        "                         batch_size = 32,\n",
        "                         epochs=500,\n",
        "                         validation_data=validation_set,\n",
        "                         callbacks=[lr_reduce, early_stopper],\n",
        "                         verbose=1, shuffle=True)"
      ]
    },
    {
      "cell_type": "code",
      "execution_count": 140,
      "metadata": {
        "colab": {
          "base_uri": "https://localhost:8080/",
          "height": 861
        },
        "id": "AC6N0aBl28Yu",
        "outputId": "c40965ec-c667-425e-921f-4b01b116b0fb"
      },
      "outputs": [
        {
          "output_type": "display_data",
          "data": {
            "text/plain": [
              "<Figure size 640x480 with 1 Axes>"
            ],
            "image/png": "[encoded data removed]"
          },
          "metadata": {}
        },
        {
          "output_type": "display_data",
          "data": {
            "text/plain": [
              "<Figure size 640x480 with 1 Axes>"
            ],
            "image/png": "[encoded data removed]"
          },
          "metadata": {}
        },
        {
          "output_type": "display_data",
          "data": {
            "text/plain": [
              "<Figure size 640x480 with 0 Axes>"
            ]
          },
          "metadata": {}
        }
      ],
      "source": [
        "import matplotlib.pyplot as plt\n",
        "# plot the loss\n",
        "plt.plot(history_fine.history['loss'], label='train loss')\n",
        "plt.plot(history_fine.history['val_loss'], label='val loss')\n",
        "plt.legend()\n",
        "plt.show()\n",
        "plt.savefig('LossVal_loss')\n",
        "\n",
        "# plot the accuracy\n",
        "plt.plot(history_fine.history['accuracy'], label='train acc')\n",
        "plt.plot(history_fine.history['val_accuracy'], label='val acc')\n",
        "plt.legend()\n",
        "plt.show()\n",
        "plt.savefig('AccVal_acc')"
      ]
    },
    {
      "cell_type": "code",
      "execution_count": 141,
      "metadata": {
        "colab": {
          "base_uri": "https://localhost:8080/"
        },
        "id": "Ul66e_0w28Yw",
        "outputId": "2f88a262-9882-40c4-d0cc-646b6468c66f"
      },
      "outputs": [
        {
          "output_type": "stream",
          "name": "stderr",
          "text": [
            "/usr/local/lib/python3.10/dist-packages/keras/src/engine/training.py:3103: UserWarning: You are saving your model as an HDF5 file via `model.save()`. This file format is considered legacy. We recommend using instead the native Keras format, e.g. `model.save('my_model.keras')`.\n",
            "  saving_api.save_model(\n"
          ]
        }
      ],
      "source": [
        "# save it as a h5 file\n",
        "\n",
        "\n",
        "from tensorflow.keras.models import load_model\n",
        "\n",
        "model.save('MobileNet.h5')"
      ]
    },
    {
      "cell_type": "code",
      "execution_count": 142,
      "metadata": {
        "colab": {
          "base_uri": "https://localhost:8080/"
        },
        "id": "m1g7qUGr28Yx",
        "outputId": "bc989fbf-cdd4-4106-e5e6-98f8429e594a"
      },
      "outputs": [
        {
          "output_type": "stream",
          "name": "stdout",
          "text": [
            "13/13 [==============================] - 2s 115ms/step\n"
          ]
        }
      ],
      "source": [
        "y_pred = np.argmax(model.predict(validation_set), axis =1)"
      ]
    },
    {
      "cell_type": "code",
      "execution_count": 112,
      "metadata": {
        "id": "DGHw3-Yf28Yx"
      },
      "outputs": [],
      "source": [
        "from tensorflow.keras.models import load_model\n",
        "from tensorflow.keras.preprocessing import image\n",
        "\n",
        "model2=load_model('MobileNet.h5')"
      ]
    },
    {
      "cell_type": "code",
      "execution_count": 123,
      "metadata": {
        "id": "WVJoyvwt28Yy"
      },
      "outputs": [],
      "source": [
        "img=image.load_img('/content/drive/MyDrive/dataset/test/100/image_1.png',target_size=(224,224))\n"
      ]
    },
    {
      "cell_type": "code",
      "execution_count": 125,
      "metadata": {
        "id": "nfndWrZE28Yy"
      },
      "outputs": [],
      "source": [
        "x=image.img_to_array(img)\n",
        "x=x/255"
      ]
    },
    {
      "cell_type": "code",
      "execution_count": 126,
      "metadata": {
        "colab": {
          "base_uri": "https://localhost:8080/"
        },
        "id": "Nu0ZKrMD28Yz",
        "outputId": "6e4d62fa-9e90-45b0-e565-90ad074a424d"
      },
      "outputs": [
        {
          "output_type": "execute_result",
          "data": {
            "text/plain": [
              "(1, 224, 224, 3)"
            ]
          },
          "metadata": {},
          "execution_count": 126
        }
      ],
      "source": [
        "import numpy as np\n",
        "x=np.expand_dims(x,axis=0)\n",
        "img_data=preprocess_input(x)\n",
        "img_data.shape"
      ]
    },
    {
      "cell_type": "code",
      "execution_count": 127,
      "metadata": {
        "colab": {
          "base_uri": "https://localhost:8080/"
        },
        "id": "6JRzutg328Y0",
        "outputId": "13c34b90-7568-437f-ce36-098af35bd996"
      },
      "outputs": [
        {
          "output_type": "stream",
          "name": "stdout",
          "text": [
            "1/1 [==============================] - 0s 25ms/step\n"
          ]
        },
        {
          "output_type": "execute_result",
          "data": {
            "text/plain": [
              "array([[1.8449273e-02, 1.9731641e-02, 2.5392696e-01, 5.4955683e-03,\n",
              "        4.8359274e-03, 2.0809560e-03, 1.7177215e-03, 4.5483978e-03,\n",
              "        1.2287199e-03, 1.9255003e-03, 3.1432528e-03, 9.6178604e-03,\n",
              "        1.0929066e-02, 3.9484072e-03, 5.9148367e-03, 1.8310986e-02,\n",
              "        2.4644982e-05, 3.3932589e-02, 9.6146564e-04, 7.8455068e-04,\n",
              "        6.6700735e-04, 3.9574737e-03, 6.2834010e-03, 2.7570659e-03,\n",
              "        3.4977272e-02, 1.6611671e-03, 1.0675493e-02, 1.0265244e-02,\n",
              "        6.4532366e-04, 8.6605605e-03, 1.8767348e-03, 2.0903956e-02,\n",
              "        1.9829881e-03, 1.4890585e-03, 1.7768629e-03, 3.3471896e-03,\n",
              "        7.1649021e-03, 1.1069099e-03, 6.5885775e-04, 4.7181509e-02,\n",
              "        1.5602109e-03, 6.2668957e-03, 2.3291667e-03, 1.4621777e-03,\n",
              "        7.3006973e-03, 9.8342041e-04, 8.5210185e-03, 5.7182489e-03,\n",
              "        1.3498288e-02, 2.9064252e-03, 9.5684960e-04, 1.5876566e-04,\n",
              "        1.0826608e-02, 7.2883539e-02, 4.0667947e-02, 2.0504256e-03,\n",
              "        1.6038938e-03, 8.3495304e-03, 1.2892905e-02, 6.8307575e-03,\n",
              "        6.6060973e-03, 9.3528430e-04, 3.3092647e-04, 8.9728564e-04,\n",
              "        1.0024919e-03, 2.1519110e-02, 4.6190750e-03, 2.1929583e-03,\n",
              "        5.5498905e-03, 7.4625167e-04, 3.6754466e-03, 1.1658497e-03,\n",
              "        7.4573263e-04, 1.9591073e-04, 9.7505382e-04, 9.1951550e-04,\n",
              "        1.1828898e-02, 1.0535740e-03, 3.2686994e-03, 1.6353896e-03,\n",
              "        4.1749929e-03, 2.4733122e-03, 1.5921970e-03, 4.7492092e-03,\n",
              "        3.6793691e-03, 7.8636035e-03, 5.7489611e-03, 8.3008809e-03,\n",
              "        4.4502309e-03, 7.7593639e-03, 2.6488893e-02, 3.4997449e-04,\n",
              "        1.8348532e-02, 9.3425455e-04, 8.9079319e-03, 3.5396095e-02,\n",
              "        3.3024705e-03, 5.3599098e-04, 4.9966242e-04, 7.2655729e-03]],\n",
              "      dtype=float32)"
            ]
          },
          "metadata": {},
          "execution_count": 127
        }
      ],
      "source": [
        "model.predict(img_data)\n"
      ]
    },
    {
      "cell_type": "code",
      "execution_count": 128,
      "metadata": {
        "colab": {
          "base_uri": "https://localhost:8080/"
        },
        "id": "LMuGiEKW28Y0",
        "outputId": "98f3ac37-1b32-41ef-86ce-b5f2e2b56fb7"
      },
      "outputs": [
        {
          "output_type": "stream",
          "name": "stdout",
          "text": [
            "1/1 [==============================] - 0s 21ms/step\n"
          ]
        },
        {
          "output_type": "execute_result",
          "data": {
            "text/plain": [
              "array([2])"
            ]
          },
          "metadata": {},
          "execution_count": 128
        }
      ],
      "source": [
        "a=np.argmax(model.predict(img_data), axis=1)\n",
        "a"
      ]
    },
    {
      "cell_type": "code",
      "execution_count": null,
      "metadata": {
        "id": "kmXwcJBR28Y0"
      },
      "outputs": [],
      "source": []
    }
  ],
  "metadata": {
    "kernelspec": {
      "display_name": "Python 3",
      "name": "python3"
    },
    "language_info": {
      "codemirror_mode": {
        "name": "ipython",
        "version": 3
      },
      "file_extension": ".py",
      "mimetype": "text/x-python",
      "name": "python",
      "nbconvert_exporter": "python",
      "pygments_lexer": "ipython3",
      "version": "3.9.12"
    },
    "colab": {
      "provenance": [],
      "gpuType": "T4"
    },
    "accelerator": "GPU"
  },
  "nbformat": 4,
  "nbformat_minor": 0
}