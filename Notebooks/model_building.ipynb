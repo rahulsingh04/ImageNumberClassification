{
  "cells": [
    {
      "cell_type": "code",
      "execution_count": 1,
      "metadata": {
        "id": "pksBBgWTQBej"
      },
      "outputs": [],
      "source": [
        "from tensorflow.compat.v1 import ConfigProto\n",
        "from tensorflow.compat.v1 import InteractiveSession\n",
        "\n",
        "config = ConfigProto()\n",
        "config.gpu_options.per_process_gpu_memory_fraction = 0.5 ## only use 50 % of the gpu\n",
        "config.gpu_options.allow_growth = True\n",
        "session = InteractiveSession(config=config)"
      ]
    },
    {
      "cell_type": "code",
      "execution_count": 32,
      "metadata": {
        "id": "JL8ZjtvcRnyq"
      },
      "outputs": [],
      "source": [
        "import numpy as np\n",
        "import pandas as pd\n",
        "from glob import glob\n",
        "from tensorflow.keras.layers import (Input, Lambda, Dense, Flatten)\n",
        "from tensorflow.keras.models import (Model, Sequential)\n",
        "from tensorflow.keras.applications.mobilenet_v2 import (MobileNetV2, preprocess_input)\n",
        "from tensorflow.keras.preprocessing.image import (ImageDataGenerator, load_img, array_to_img, img_to_array)\n",
        "from tensorflow.keras.optimizers import Adam\n",
        "import matplotlib.pyplot as plt"
      ]
    },
    {
      "cell_type": "code",
      "execution_count": 23,
      "metadata": {
        "id": "LzBsfbucRrxj"
      },
      "outputs": [],
      "source": [
        "# re-size all the images to this\n",
        "IMAGE_SIZE = [224, 224]\n",
        "\n",
        "train_path = 'dataset/train'\n",
        "valid_path = 'dataset/val'\n",
        "test_path =  'dataset/test'"
      ]
    },
    {
      "cell_type": "code",
      "execution_count": 20,
      "metadata": {
        "colab": {
          "base_uri": "https://localhost:8080/"
        },
        "id": "gpXArpNbe9LS",
        "outputId": "8a11ae03-81cd-4166-a3bf-406ca84c6627"
      },
      "outputs": [],
      "source": [
        "\n",
        "mobileNet = MobileNetV2(input_shape=IMAGE_SIZE + [3], weights='imagenet', include_top=False)"
      ]
    },
    {
      "cell_type": "code",
      "execution_count": 21,
      "metadata": {
        "id": "dcIjIvjGfWcL"
      },
      "outputs": [
        {
          "name": "stdout",
          "output_type": "stream",
          "text": [
            "total no of folders 100\n"
          ]
        }
      ],
      "source": [
        "# useful for getting number of output classes\n",
        "folders = glob('dataset/train/*')\n",
        "print(\"total no of folders\", len(folders))"
      ]
    },
    {
      "cell_type": "markdown",
      "metadata": {},
      "source": [
        "###  Data Augmentation "
      ]
    },
    {
      "cell_type": "code",
      "execution_count": null,
      "metadata": {},
      "outputs": [],
      "source": []
    },
    {
      "cell_type": "code",
      "execution_count": null,
      "metadata": {},
      "outputs": [],
      "source": []
    },
    {
      "cell_type": "code",
      "execution_count": 22,
      "metadata": {
        "id": "dg76gtA4fbBn"
      },
      "outputs": [
        {
          "name": "stdout",
          "output_type": "stream",
          "text": [
            "Number of layers in the Mobile Net  model:  154\n"
          ]
        }
      ],
      "source": [
        "## Fine Tune The Layer \n",
        "\n",
        "print(\"Number of layers in the Mobile Net  model: \", len(mobileNet.layers))\n",
        "\n",
        "# Fine-tune from this layer onwards\n",
        "fine_tune_at = 80\n",
        "\n",
        "# Freeze all the layers before the `fine_tune_at` layer\n",
        "for layer in mobileNet.layers[:fine_tune_at]:\n",
        "    layer.trainable =  False"
      ]
    },
    {
      "cell_type": "code",
      "execution_count": 28,
      "metadata": {},
      "outputs": [],
      "source": [
        "from tensorflow.keras.callbacks import ReduceLROnPlateau, EarlyStopping\n",
        "\n",
        "#learning_rate reduce module\n",
        "lr_reduce = ReduceLROnPlateau('val_loss', patience=4, \n",
        "                                              factor=0.5, min_lr=1e-6)\n",
        "\n",
        "# Stop early if model doesn't improve after n epochs\n",
        "early_stopper = EarlyStopping(monitor='val_loss', patience=4,\n",
        "                              verbose=0, restore_best_weights=True)"
      ]
    },
    {
      "cell_type": "code",
      "execution_count": 29,
      "metadata": {},
      "outputs": [],
      "source": [
        "history = model.fit(train_generator,\n",
        "                         batch_size = 32,\n",
        "                         epochs=70,\n",
        "                         validation_data=validation_generator,\n",
        "                         callbacks=[lr_reduce, early_stopper],\n",
        "                         verbose=1, shuffle=True)"
      ]
    },
    {
      "cell_type": "code",
      "execution_count": null,
      "metadata": {},
      "outputs": [],
      "source": []
    },
    {
      "cell_type": "code",
      "execution_count": null,
      "metadata": {},
      "outputs": [],
      "source": []
    },
    {
      "cell_type": "code",
      "execution_count": null,
      "metadata": {},
      "outputs": [],
      "source": []
    },
    {
      "cell_type": "code",
      "execution_count": null,
      "metadata": {},
      "outputs": [],
      "source": []
    },
    {
      "cell_type": "code",
      "execution_count": null,
      "metadata": {},
      "outputs": [],
      "source": []
    },
    {
      "cell_type": "code",
      "execution_count": 31,
      "metadata": {
        "id": "uydeJn7bfre0"
      },
      "outputs": [
        {
          "ename": "NameError",
          "evalue": "name 'adam' is not defined",
          "output_type": "error",
          "traceback": [
            "\u001b[1;31m---------------------------------------------------------------------------\u001b[0m",
            "\u001b[1;31mNameError\u001b[0m                                 Traceback (most recent call last)",
            "Cell \u001b[1;32mIn[31], line 1\u001b[0m\n\u001b[1;32m----> 1\u001b[0m Model\u001b[38;5;241m.\u001b[39mcompile(optimizer \u001b[38;5;241m=\u001b[39m \u001b[43madam\u001b[49m(\u001b[38;5;241m1e-5\u001b[39m),  \u001b[38;5;66;03m# Low learning rate\u001b[39;00m\n\u001b[0;32m      2\u001b[0m               loss\u001b[38;5;241m=\u001b[39m\u001b[38;5;124m'\u001b[39m\u001b[38;5;124mcategorical_crossentropy\u001b[39m\u001b[38;5;124m'\u001b[39m,\n\u001b[0;32m      3\u001b[0m               metrics\u001b[38;5;241m=\u001b[39m[\u001b[38;5;124m'\u001b[39m\u001b[38;5;124maccuracy\u001b[39m\u001b[38;5;124m'\u001b[39m])\n",
            "\u001b[1;31mNameError\u001b[0m: name 'adam' is not defined"
          ]
        }
      ],
      "source": [
        "Model.compile(optimizer = adam(1e-5),  # Low learning rate\n",
        "              loss='categorical_crossentropy',\n",
        "              metrics=['accuracy'])"
      ]
    },
    {
      "cell_type": "code",
      "execution_count": null,
      "metadata": {},
      "outputs": [],
      "source": [
        "model.summary()\n"
      ]
    },
    {
      "cell_type": "code",
      "execution_count": null,
      "metadata": {},
      "outputs": [],
      "source": []
    },
    {
      "cell_type": "code",
      "execution_count": 10,
      "metadata": {
        "id": "UFZrM-OIfutE"
      },
      "outputs": [],
      "source": []
    },
    {
      "cell_type": "code",
      "execution_count": 11,
      "metadata": {
        "id": "6YU12MjRf0U1"
      },
      "outputs": [],
      "source": [
        "# Use the Image Data Generator to import the images from the dataset\n",
        "from tensorflow.keras.preprocessing.image import ImageDataGenerator\n",
        "\n",
        "train_datagen = ImageDataGenerator(rescale = 1./255,\n",
        "                                   shear_range = 0.2,\n",
        "                                   zoom_range = 0.2,\n",
        "                                   horizontal_flip = True)\n",
        "\n",
        "test_datagen = ImageDataGenerator(rescale = 1./255)"
      ]
    },
    {
      "cell_type": "code",
      "execution_count": 12,
      "metadata": {
        "colab": {
          "base_uri": "https://localhost:8080/"
        },
        "id": "CxB18Puaf3RP",
        "outputId": "91a90bcf-9186-41df-9c32-fec50860e55e"
      },
      "outputs": [
        {
          "name": "stdout",
          "output_type": "stream",
          "text": [
            "Found 1200 images belonging to 100 classes.\n"
          ]
        },
        {
          "name": "stdout",
          "output_type": "stream",
          "text": [
            "Found 400 images belonging to 100 classes.\n"
          ]
        }
      ],
      "source": [
        "# Make sure you provide the same target size as initialied for the image size\n",
        "training_set = train_datagen.flow_from_directory(train_path,\n",
        "                                                 target_size = (224, 224),\n",
        "                                                 batch_size = 32,\n",
        "                                                 class_mode = 'categorical')\n",
        "\n",
        "validation_set = test_datagen.flow_from_directory(valid_path,\n",
        "                                            target_size = (224, 224),\n",
        "                                            batch_size = 32,\n",
        "                                            class_mode = 'categorical')"
      ]
    },
    {
      "cell_type": "code",
      "execution_count": 13,
      "metadata": {
        "colab": {
          "base_uri": "https://localhost:8080/"
        },
        "id": "KS6yGfIpf5-_",
        "outputId": "ba2dfec7-b994-45cd-a330-0cfcd56d384c"
      },
      "outputs": [
        {
          "name": "stdout",
          "output_type": "stream",
          "text": [
            "LIST OF THE CLASS NAME  ARE :- ['1', '10', '100', '11', '12', '13', '14', '15', '16', '17', '18', '19', '2', '20', '21', '22', '23', '24', '25', '26', '27', '28', '29', '3', '30', '31', '32', '33', '34', '35', '36', '37', '38', '39', '4', '40', '41', '42', '43', '44', '45', '46', '47', '48', '49', '5', '50', '51', '52', '53', '54', '55', '56', '57', '58', '59', '6', '60', '61', '62', '63', '64', '65', '66', '67', '68', '69', '7', '70', '71', '72', '73', '74', '75', '76', '77', '78', '79', '8', '80', '81', '82', '83', '84', '85', '86', '87', '88', '89', '9', '90', '91', '92', '93', '94', '95', '96', '97', '98', '99']\n"
          ]
        }
      ],
      "source": [
        "print(\"LIST OF THE CLASS NAME  ARE :-\", list(training_set.class_indices.keys()))"
      ]
    },
    {
      "cell_type": "code",
      "execution_count": 14,
      "metadata": {
        "colab": {
          "base_uri": "https://localhost:8080/"
        },
        "id": "T9s-CsR1itgP",
        "outputId": "3328d9aa-ec99-4d96-aa50-e8e8c586f5a2"
      },
      "outputs": [
        {
          "data": {
            "text/plain": [
              "<keras.preprocessing.image.DirectoryIterator at 0x23e35237cd0>"
            ]
          },
          "execution_count": 14,
          "metadata": {},
          "output_type": "execute_result"
        }
      ],
      "source": [
        "validation_set"
      ]
    },
    {
      "cell_type": "code",
      "execution_count": 15,
      "metadata": {
        "colab": {
          "base_uri": "https://localhost:8080/"
        },
        "id": "f3RBVcEkgUjl",
        "outputId": "b21093c2-8f35-4d80-9079-e979adb4f3e6"
      },
      "outputs": [
        {
          "name": "stdout",
          "output_type": "stream",
          "text": [
            "Epoch 1/10\n",
            "38/38 [==============================] - 799s 17s/step - loss: 20.1138 - accuracy: 0.0617 - val_loss: 13.1552 - val_accuracy: 0.1475\n",
            "Epoch 2/10\n",
            "38/38 [==============================] - 624s 16s/step - loss: 10.4628 - accuracy: 0.2592 - val_loss: 11.6760 - val_accuracy: 0.2425\n",
            "Epoch 3/10\n",
            "38/38 [==============================] - 669s 18s/step - loss: 7.5465 - accuracy: 0.3892 - val_loss: 10.3703 - val_accuracy: 0.2800\n",
            "Epoch 4/10\n",
            "38/38 [==============================] - 507s 13s/step - loss: 6.5507 - accuracy: 0.4892 - val_loss: 13.1956 - val_accuracy: 0.2400\n",
            "Epoch 5/10\n",
            "38/38 [==============================] - 947s 25s/step - loss: 6.2721 - accuracy: 0.5075 - val_loss: 12.1816 - val_accuracy: 0.2800\n",
            "Epoch 6/10\n",
            "38/38 [==============================] - 512s 13s/step - loss: 5.6569 - accuracy: 0.5800 - val_loss: 12.4535 - val_accuracy: 0.2950\n",
            "Epoch 7/10\n",
            "38/38 [==============================] - 502s 13s/step - loss: 5.5039 - accuracy: 0.5858 - val_loss: 12.1307 - val_accuracy: 0.2900\n",
            "Epoch 8/10\n",
            "38/38 [==============================] - 544s 14s/step - loss: 5.3717 - accuracy: 0.6067 - val_loss: 12.9922 - val_accuracy: 0.3200\n",
            "Epoch 9/10\n",
            "38/38 [==============================] - 628s 17s/step - loss: 4.6531 - accuracy: 0.6392 - val_loss: 13.2845 - val_accuracy: 0.3375\n",
            "Epoch 10/10\n",
            "38/38 [==============================] - 596s 16s/step - loss: 4.9449 - accuracy: 0.6433 - val_loss: 12.4624 - val_accuracy: 0.3350\n"
          ]
        }
      ],
      "source": [
        "# fit the model\n",
        "# Run the cell. It will take some time to execute\n",
        "\n",
        "hist = model.fit(\n",
        "  training_set,\n",
        "  validation_data=validation_set,\n",
        "  epochs=10,\n",
        "  steps_per_epoch=len(training_set),\n",
        "  validation_steps=len(validation_set)\n",
        ")"
      ]
    },
    {
      "cell_type": "code",
      "execution_count": 17,
      "metadata": {
        "id": "l_c5lw4xijav"
      },
      "outputs": [
        {
          "data": {
            "image/png": "[encoded data removed]",
            "text/plain": [
              "<Figure size 640x480 with 1 Axes>"
            ]
          },
          "metadata": {},
          "output_type": "display_data"
        },
        {
          "data": {
            "image/png": "[encoded data removed]",
            "text/plain": [
              "<Figure size 640x480 with 1 Axes>"
            ]
          },
          "metadata": {},
          "output_type": "display_data"
        },
        {
          "data": {
            "text/plain": [
              "<Figure size 640x480 with 0 Axes>"
            ]
          },
          "metadata": {},
          "output_type": "display_data"
        }
      ],
      "source": [
        "# plot the loss\n",
        "import matplotlib.pyplot as plt\n",
        "plt.plot(hist.history['loss'], label='train loss')\n",
        "plt.plot(hist.history['val_loss'], label='val loss')\n",
        "plt.legend()\n",
        "plt.show()\n",
        "plt.savefig('LossVal_loss')\n",
        "\n",
        "# plot the accuracy\n",
        "plt.plot(hist.history['accuracy'], label='train acc')\n",
        "plt.plot(hist.history['val_accuracy'], label='val acc')\n",
        "plt.legend()\n",
        "plt.show()\n",
        "plt.savefig('AccVal_acc')"
      ]
    },
    {
      "cell_type": "code",
      "execution_count": null,
      "metadata": {
        "id": "44l_CtnHjBJN"
      },
      "outputs": [],
      "source": []
    },
    {
      "cell_type": "code",
      "execution_count": 18,
      "metadata": {
        "id": "rewKa_AyjGUq"
      },
      "outputs": [],
      "source": [
        "# save it as a h5 file\n",
        "\n",
        "from tensorflow.keras.models import load_model\n",
        "\n",
        "model.save('model_inception.h5')"
      ]
    },
    {
      "cell_type": "code",
      "execution_count": 20,
      "metadata": {
        "id": "rnvd2FtcjJHb"
      },
      "outputs": [
        {
          "name": "stdout",
          "output_type": "stream",
          "text": [
            "13/13 [==============================] - 164s 9s/step\n"
          ]
        }
      ],
      "source": [
        "y_pred = model.predict(validation_set)"
      ]
    },
    {
      "cell_type": "code",
      "execution_count": 25,
      "metadata": {},
      "outputs": [
        {
          "data": {
            "text/plain": [
              "23"
            ]
          },
          "execution_count": 25,
          "metadata": {},
          "output_type": "execute_result"
        }
      ],
      "source": [
        "y_pred[0]"
      ]
    },
    {
      "cell_type": "code",
      "execution_count": null,
      "metadata": {
        "id": "iHv3XK27jNPH"
      },
      "outputs": [],
      "source": [
        "import numpy as np\n",
        "y_pred = np.argmax(y_pred, axis=1)"
      ]
    },
    {
      "cell_type": "code",
      "execution_count": 26,
      "metadata": {
        "id": "oms-nWZcjSrN"
      },
      "outputs": [],
      "source": [
        "from tensorflow.keras.models import load_model\n",
        "from tensorflow.keras.preprocessing import image"
      ]
    },
    {
      "cell_type": "code",
      "execution_count": 27,
      "metadata": {
        "id": "MpCfT1ukx7vK"
      },
      "outputs": [],
      "source": [
        "loaded_model=load_model('model_inception.h5')\n"
      ]
    },
    {
      "cell_type": "code",
      "execution_count": 30,
      "metadata": {
        "id": "OEadj_6gyZoC"
      },
      "outputs": [
        {
          "name": "stdout",
          "output_type": "stream",
          "text": [
            "(224, 224, 3)\n"
          ]
        }
      ],
      "source": [
        "img=image.load_img(r'E:\\Project\\Notebooks\\dataset\\test\\1\\image_1.png',target_size=(224,224))\n",
        "\n",
        "x=image.img_to_array(img)\n",
        "print(x.shape)"
      ]
    },
    {
      "cell_type": "code",
      "execution_count": 31,
      "metadata": {
        "id": "2Hnq5F64yeyz"
      },
      "outputs": [],
      "source": [
        "x=x/255"
      ]
    },
    {
      "cell_type": "code",
      "execution_count": 32,
      "metadata": {
        "id": "Z1gsyxjWymfB"
      },
      "outputs": [
        {
          "data": {
            "text/plain": [
              "(1, 224, 224, 3)"
            ]
          },
          "execution_count": 32,
          "metadata": {},
          "output_type": "execute_result"
        }
      ],
      "source": [
        "import numpy as np\n",
        "x=np.expand_dims(x,axis=0)\n",
        "img_data=preprocess_input(x)\n",
        "img_data.shape"
      ]
    },
    {
      "cell_type": "code",
      "execution_count": 33,
      "metadata": {
        "id": "2HubPLHEypVF"
      },
      "outputs": [
        {
          "name": "stdout",
          "output_type": "stream",
          "text": [
            "1/1 [==============================] - 46s 46s/step\n"
          ]
        },
        {
          "data": {
            "text/plain": [
              "array([[7.8945952e-03, 1.3321315e-06, 8.8256208e-08, 4.3862077e-08,\n",
              "        1.7342404e-06, 1.6697378e-08, 4.5137238e-04, 2.6695414e-08,\n",
              "        1.1770725e-08, 6.5810285e-03, 9.7047015e-10, 1.0830883e-12,\n",
              "        1.5020149e-05, 1.5443648e-01, 2.5328088e-06, 1.1585558e-07,\n",
              "        1.8477121e-09, 3.2366043e-07, 1.0153453e-05, 4.1616428e-08,\n",
              "        1.6527505e-05, 3.8624351e-04, 4.8158846e-09, 4.5349609e-04,\n",
              "        1.6144863e-03, 7.9313899e-08, 1.1017986e-03, 1.6830072e-08,\n",
              "        1.3303853e-04, 3.3551812e-09, 7.2045741e-06, 8.5316632e-10,\n",
              "        8.6374985e-07, 1.6286594e-03, 2.5701985e-02, 1.6111861e-01,\n",
              "        2.6992045e-03, 1.6930332e-02, 1.4092545e-07, 2.5064626e-01,\n",
              "        2.5780329e-05, 1.7155969e-04, 1.7456858e-05, 4.8073821e-07,\n",
              "        4.7549922e-05, 4.6357732e-06, 4.1330568e-07, 3.5994200e-04,\n",
              "        5.6666151e-05, 4.7049016e-06, 2.8883038e-05, 3.4408390e-07,\n",
              "        9.1017336e-09, 1.5798130e-03, 1.0803336e-07, 2.0639160e-04,\n",
              "        7.8161293e-08, 4.4706947e-05, 3.9050821e-08, 1.9284051e-10,\n",
              "        6.6684089e-07, 7.8587963e-09, 5.8099936e-10, 2.4744312e-10,\n",
              "        3.2708926e-05, 2.8668328e-05, 1.0272810e-06, 7.8056715e-02,\n",
              "        9.7575037e-07, 7.1133123e-05, 1.8015071e-14, 8.9785063e-12,\n",
              "        2.7971799e-02, 4.2464767e-06, 3.1918725e-07, 8.2112674e-05,\n",
              "        3.2830066e-08, 2.8765415e-05, 8.2601617e-12, 3.0247548e-07,\n",
              "        1.1456617e-08, 4.8297403e-12, 4.1632566e-07, 9.7112637e-03,\n",
              "        3.1634057e-12, 6.9820800e-08, 3.7394204e-06, 5.7059921e-08,\n",
              "        1.5363750e-03, 5.0622613e-05, 2.6957706e-02, 3.3769587e-09,\n",
              "        2.1584260e-01, 2.1873766e-05, 2.0123462e-05, 3.3031491e-04,\n",
              "        5.0126685e-09, 2.3788396e-09, 1.2835780e-05, 4.8491047e-03]],\n",
              "      dtype=float32)"
            ]
          },
          "execution_count": 33,
          "metadata": {},
          "output_type": "execute_result"
        }
      ],
      "source": [
        "model.predict(img_data)"
      ]
    },
    {
      "cell_type": "code",
      "execution_count": 34,
      "metadata": {
        "id": "XcjRHHTny7HP"
      },
      "outputs": [
        {
          "name": "stdout",
          "output_type": "stream",
          "text": [
            "1/1 [==============================] - 1s 520ms/step\n"
          ]
        },
        {
          "data": {
            "text/plain": [
              "array([39], dtype=int64)"
            ]
          },
          "execution_count": 34,
          "metadata": {},
          "output_type": "execute_result"
        }
      ],
      "source": [
        "a=np.argmax(model.predict(img_data), axis=1)\n",
        "a"
      ]
    },
    {
      "cell_type": "code",
      "execution_count": null,
      "metadata": {
        "id": "GfRdbJr7y_sO"
      },
      "outputs": [],
      "source": []
    }
  ],
  "metadata": {
    "accelerator": "GPU",
    "colab": {
      "gpuType": "T4",
      "provenance": []
    },
    "kernelspec": {
      "display_name": "Python 3",
      "name": "python3"
    },
    "language_info": {
      "codemirror_mode": {
        "name": "ipython",
        "version": 3
      },
      "file_extension": ".py",
      "mimetype": "text/x-python",
      "name": "python",
      "nbconvert_exporter": "python",
      "pygments_lexer": "ipython3",
      "version": "3.9.12"
    }
  },
  "nbformat": 4,
  "nbformat_minor": 0
}
